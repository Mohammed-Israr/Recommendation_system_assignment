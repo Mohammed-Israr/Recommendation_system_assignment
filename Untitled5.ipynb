{
 "cells": [
  {
   "cell_type": "code",
   "execution_count": 5,
   "id": "64c30fe1-027d-4ee4-b577-59552d791c85",
   "metadata": {},
   "outputs": [
    {
     "name": "stdout",
     "output_type": "stream",
     "text": [
      "Recommendations for CUST008: ['Electronics']\n"
     ]
    }
   ],
   "source": [
    "import pandas as pd\n",
    "from sklearn.metrics.pairwise import cosine_similarity\n",
    "from sklearn.feature_extraction.text import CountVectorizer\n",
    "\n",
    "\n",
    "df = pd.read_csv('retail_sales_dataset.csv')\n",
    "customer_data = df.groupby(\"Customer ID\")[\"Product Category\"].apply(lambda x: \" \".join(x)).reset_index()\n",
    "vectorizer = CountVectorizer()\n",
    "category_matrix = vectorizer.fit_transform(customer_data[\"Product Category\"])\n",
    "similarity_matrix = cosine_similarity(category_matrix)\n",
    "\n",
    "def recommend_products(customer_id, customer_data, similarity_matrix, top_n=2):\n",
    "    try:\n",
    "        customer_index = customer_data[customer_data[\"Customer ID\"] == customer_id].index[0]\n",
    "        similarity_scores = list(enumerate(similarity_matrix[customer_index]))\n",
    "        sorted_scores = sorted(similarity_scores, key=lambda x: x[1], reverse=True)\n",
    "        similar_customers_indices = [i for i, score in sorted_scores[1:top_n + 1]]\n",
    "        similar_customers_data = customer_data.iloc[similar_customers_indices]\n",
    "        recommended_products = \" \".join(similar_customers_data[\"Product Category\"]).split()\n",
    "        return list(set(recommended_products))\n",
    "    \n",
    "    except IndexError:\n",
    "        return \"Customer ID not found.\"\n",
    "\n",
    "# Example \n",
    "customer_id = \"CUST008\"  \n",
    "recommendations = recommend_products(customer_id, customer_data, similarity_matrix)\n",
    "print(f\"Recommendations for {customer_id}: {recommendations}\")\n"
   ]
  },
  {
   "cell_type": "code",
   "execution_count": null,
   "id": "faa0247a-5a64-4ebe-b3ff-1dd32ccef7d8",
   "metadata": {},
   "outputs": [],
   "source": []
  }
 ],
 "metadata": {
  "kernelspec": {
   "display_name": "Python 3 (ipykernel)",
   "language": "python",
   "name": "python3"
  },
  "language_info": {
   "codemirror_mode": {
    "name": "ipython",
    "version": 3
   },
   "file_extension": ".py",
   "mimetype": "text/x-python",
   "name": "python",
   "nbconvert_exporter": "python",
   "pygments_lexer": "ipython3",
   "version": "3.12.7"
  }
 },
 "nbformat": 4,
 "nbformat_minor": 5
}
